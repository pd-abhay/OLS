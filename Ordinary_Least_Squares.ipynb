{
 "cells": [
  {
   "cell_type": "code",
   "execution_count": 19,
   "metadata": {},
   "outputs": [],
   "source": [
    "import numpy as np\n",
    "import latexify"
   ]
  },
  {
   "cell_type": "code",
   "execution_count": 15,
   "metadata": {},
   "outputs": [],
   "source": [
    "x = [[1,1],[1,2],[1,3],[1,4]]\n",
    "y = [0,1,2,3]"
   ]
  },
  {
   "cell_type": "code",
   "execution_count": 22,
   "metadata": {},
   "outputs": [
    {
     "data": {
      "text/latex": [
       "$$ \\displaystyle \\mathrm{ols}(x, y) = \\mathrm{np}.\\mathrm{linalg}.\\mathrm{inv} \\mathopen{}\\left( x.T x \\mathclose{}\\right) \\cdot x.T y $$"
      ],
      "text/plain": [
       "<latexify.ipython_wrappers.LatexifiedFunction at 0x1bd5c77ee70>"
      ]
     },
     "execution_count": 22,
     "metadata": {},
     "output_type": "execute_result"
    }
   ],
   "source": [
    "@latexify.function\n",
    "def ols(x,y):\n",
    "    return np.linalg.inv(x.T @ x) @ x.T @ y\n",
    "ols\n"
   ]
  },
  {
   "cell_type": "code",
   "execution_count": 28,
   "metadata": {},
   "outputs": [
    {
     "name": "stdout",
     "output_type": "stream",
     "text": [
      "X transpose X is:\n",
      " [[ 4 10]\n",
      " [10 30]]\n",
      "\n",
      " X transpose X inverse is:\n",
      " [[ 1.5 -0.5]\n",
      " [-0.5  0.2]]\n",
      "\n",
      " X transpose y is:\n",
      " [ 6 20]\n",
      "\n",
      " OLS:\n",
      " [-1.  1.]\n"
     ]
    }
   ],
   "source": [
    "def apply_ols(a,b):\n",
    "    #write this in matrix format\n",
    "    x = np.array(a)\n",
    "    y = np.array(b)\n",
    "    # Transpose of x\n",
    "    xT = np.transpose(x)\n",
    "\n",
    "    #matrix multiplication\n",
    "    xtx = np.dot(xT,x)\n",
    "    print(\"X transpose X is:\\n\",xtx)\n",
    "    #inverse of y\n",
    "    xtx_inv = np.linalg.inv(xtx)\n",
    "    xtx_inv\n",
    "    print(\"\\n X transpose X inverse is:\\n\",xtx_inv)\n",
    "\n",
    "    xty = np.dot(xT,y)\n",
    "    print(\"\\n X transpose y is:\\n\",xty)\n",
    "\n",
    "    ols = np.dot(xtx_inv,xty)\n",
    "    print(\"\\n OLS:\\n\",ols)\n",
    "\n",
    "apply_ols(x,y)    \n",
    "    "
   ]
  },
  {
   "cell_type": "code",
   "execution_count": null,
   "metadata": {},
   "outputs": [],
   "source": []
  }
 ],
 "metadata": {
  "kernelspec": {
   "display_name": "Python 3",
   "language": "python",
   "name": "python3"
  },
  "language_info": {
   "codemirror_mode": {
    "name": "ipython",
    "version": 3
   },
   "file_extension": ".py",
   "mimetype": "text/x-python",
   "name": "python",
   "nbconvert_exporter": "python",
   "pygments_lexer": "ipython3",
   "version": "3.12.6"
  }
 },
 "nbformat": 4,
 "nbformat_minor": 2
}
